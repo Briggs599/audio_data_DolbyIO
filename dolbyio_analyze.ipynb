{
 "cells": [
  {
   "cell_type": "markdown",
   "id": "e52e0603-24d7-4269-8c15-bf5d5f9d112b",
   "metadata": {},
   "source": [
    "# Dolby.io Analyze Audio and Analyze Speech\n",
    "PyData Global 2021 | @BradenRiggs1\n",
    "\n",
    "Learn More about Analyze Audio: https://docs.dolby.io/media-apis/docs/analyze-api-guide\n",
    "\n",
    "Learn More about Analyze Speech: https://docs.dolby.io/media-apis/docs/speech-analytics-api-guide\n",
    "\n",
    "---"
   ]
  },
  {
   "cell_type": "markdown",
   "id": "a7972cf7-6387-446a-ba80-236acff77533",
   "metadata": {},
   "source": [
    "### Import and Keys"
   ]
  },
  {
   "cell_type": "code",
   "execution_count": null,
   "id": "a9088720-3fc7-4eb8-9d09-a5f39c33cf1b",
   "metadata": {},
   "outputs": [],
   "source": [
    "import os\n",
    "import requests\n",
    "import time\n",
    "import shutil\n",
    "import json\n",
    "\n",
    "api_key = json.load(open('key.json'))[\"key\"]\n",
    "\n",
    "in_path = \"raw_audio/\"\n",
    "out_path_audio = \"raw_data_audio/\"\n",
    "out_path_speech = \"raw_data_speech/\""
   ]
  },
  {
   "cell_type": "markdown",
   "id": "6e253dcb-0445-4d25-8846-cba2cba013a7",
   "metadata": {},
   "source": [
    "### Upload Raw Audio"
   ]
  },
  {
   "cell_type": "code",
   "execution_count": null,
   "id": "411582b5-58a1-4b83-9298-cef3ff51aa4d",
   "metadata": {},
   "outputs": [],
   "source": [
    "input_url = \"https://api.dolby.com/media/input\"\n",
    "headers = {\"x-api-key\": api_key, \"Content-Type\": \"application/json\", \"Accept\": \"application/json\"}\n",
    "\n",
    "list_of_files = os.listdir(in_path)\n",
    "list_of_blobs = []\n",
    "\n",
    "for raw_audio_file in list_of_files:\n",
    "    blob = \"dlb://in/\" + raw_audio_file\n",
    "    list_of_blobs.append(blob)\n",
    "    body = {\"url\": blob}\n",
    "\n",
    "    response = requests.post(input_url, json=body, headers=headers)\n",
    "    response.raise_for_status()\n",
    "    data = response.json()\n",
    "    presigned_url = data[\"url\"]\n",
    "\n",
    "    print(\"Uploading {0}\".format(in_path + raw_audio_file))\n",
    "    with open(in_path + raw_audio_file, \"rb\") as input_file:\n",
    "        requests.put(presigned_url, data=input_file)"
   ]
  },
  {
   "cell_type": "markdown",
   "id": "8a7867ce-c48e-46fc-affb-403a9b7a683a",
   "metadata": {},
   "source": [
    "### Analyze Audio for Raw Audio"
   ]
  },
  {
   "cell_type": "code",
   "execution_count": null,
   "id": "7fe7a7dc-2fb5-4dc2-8519-81d806653829",
   "metadata": {},
   "outputs": [],
   "source": [
    "url = \"https://api.dolby.com/media/analyze\"\n",
    "headers = {\"x-api-key\": api_key,\"Content-Type\": \"application/json\",\"Accept\": \"application/json\"}\n",
    "jobIDs = []\n",
    "list_out_blobs = []\n",
    "\n",
    "for blob in list_of_blobs:\n",
    "    out_blob = blob.replace(\"/in/\",\"/out/\").replace(\".wav\",\".json\")\n",
    "    list_out_blobs.append(out_blob)\n",
    "    body = {\"input\" : blob ,\"output\" : out_blob}\n",
    "\n",
    "    response = requests.post(url, json=body, headers=headers)\n",
    "    response.raise_for_status()\n",
    "    jobIDs.append(response.json()[\"job_id\"])\n"
   ]
  },
  {
   "cell_type": "markdown",
   "id": "2cfba7f2-3cd9-477c-853f-20b11355be9f",
   "metadata": {},
   "source": [
    "### Download Analyze Audio Results"
   ]
  },
  {
   "cell_type": "code",
   "execution_count": null,
   "id": "8ad6b9c2-ecdc-44fc-bdf8-835754ee82ab",
   "metadata": {},
   "outputs": [],
   "source": [
    "url_analyze = \"https://api.dolby.com/media/analyze\"\n",
    "url_out = \"https://api.dolby.com/media/output\"\n",
    "headers = {\"x-api-key\": api_key,\"Content-Type\": \"application/json\",\"Accept\": \"application/json\"}\n",
    "job_out = dict(zip(jobIDs,list_out_blobs))\n",
    "\n",
    "while job_out:\n",
    "    for job, output in job_out.items():\n",
    "        params = {\"job_id\": job}\n",
    "        response = requests.get(url_analyze, params=params, headers=headers)\n",
    "        response.raise_for_status()\n",
    "        \n",
    "        if response.json()[\"status\"] == 'Success':\n",
    "            args = {\"url\": output}\n",
    "            \n",
    "            with requests.get(url_out, params=args, headers=headers, stream=True) as response:\n",
    "                response.raise_for_status()\n",
    "                response.raw.decode_content = True\n",
    "                \n",
    "                print(\"Downloading into {0}\".format(out_path_audio + output.split(\"/\")[-1]))\n",
    "                with open(out_path_audio +output.split(\"/\")[-1], \"wb\") as output_file:\n",
    "                    shutil.copyfileobj(response.raw, output_file)\n",
    "                    \n",
    "            del job_out[job]\n",
    "            break"
   ]
  },
  {
   "cell_type": "markdown",
   "id": "addd2277-adfa-46b4-8d44-756deade7f7a",
   "metadata": {},
   "source": [
    "### Analyze Speech for Raw Audio"
   ]
  },
  {
   "cell_type": "code",
   "execution_count": null,
   "id": "2614ff79-7cd7-4ad6-bb6a-d86697c2aa0d",
   "metadata": {},
   "outputs": [],
   "source": [
    "url = \"https://api.dolby.com/media/analyze/speech\"\n",
    "headers = {\"x-api-key\": api_key,\"Content-Type\": \"application/json\",\"Accept\": \"application/json\"}\n",
    "jobIDs = []\n",
    "list_out_blobs = []\n",
    "\n",
    "for blob in list_of_blobs:\n",
    "    out_blob = blob.replace(\"/in/\",\"/out/\").replace(\".mp3\",\".json\")\n",
    "    list_out_blobs.append(out_blob)\n",
    "    body = {\"input\" : blob ,\"output\" : out_blob}\n",
    "\n",
    "    response = requests.post(url, json=body, headers=headers)\n",
    "    response.raise_for_status()\n",
    "    jobIDs.append(response.json()[\"job_id\"])"
   ]
  },
  {
   "cell_type": "markdown",
   "id": "e7c203af-3db9-46ed-b649-f2b6f37d3900",
   "metadata": {},
   "source": [
    "### Download Analyze Speech Results"
   ]
  },
  {
   "cell_type": "code",
   "execution_count": null,
   "id": "8273eeb4-ac62-45d4-b9df-bf6dc6ca6243",
   "metadata": {},
   "outputs": [],
   "source": [
    "url_analyze = \"https://api.dolby.com/media/analyze/speech\"\n",
    "url_out = \"https://api.dolby.com/media/output\"\n",
    "headers = {\"x-api-key\": api_key,\"Content-Type\": \"application/json\",\"Accept\": \"application/json\"}\n",
    "job_out = dict(zip(jobIDs,list_out_blobs))\n",
    "\n",
    "while job_out:\n",
    "    for job, output in job_out.items():\n",
    "        params = {\"job_id\": job}\n",
    "        response = requests.get(url_analyze, params=params, headers=headers)\n",
    "        response.raise_for_status()\n",
    "        \n",
    "        if response.json()[\"status\"] == 'Success':\n",
    "            args = {\"url\": output}\n",
    "            \n",
    "            with requests.get(url_out, params=args, headers=headers, stream=True) as response:\n",
    "                response.raise_for_status()\n",
    "                response.raw.decode_content = True\n",
    "                \n",
    "                print(\"Downloading into {0}\".format(out_path_speech + output.split(\"/\")[-1]))\n",
    "                with open(out_path_speech +output.split(\"/\")[-1], \"wb\") as output_file:\n",
    "                    shutil.copyfileobj(response.raw, output_file)\n",
    "                    \n",
    "            del job_out[job]\n",
    "            break"
   ]
  },
  {
   "cell_type": "markdown",
   "id": "084613f1-a9b2-48be-8575-72be19200da1",
   "metadata": {},
   "source": [
    "Thats it, you've created two JSON files for each of your original audio files! Check out the flatten notebook for converting the data into a CSV"
   ]
  },
  {
   "cell_type": "markdown",
   "id": "47301c1c-6d7a-4d60-a8b6-94fc355d0762",
   "metadata": {},
   "source": [
    "## Like this project and have some ideas of your own?\n",
    "---"
   ]
  },
  {
   "cell_type": "markdown",
   "id": "f0495a60-2ff4-4730-ab79-9c536351d612",
   "metadata": {},
   "source": [
    "You can submit your ideas here:https://go.dolby.io/pydata-2021\n",
    "\n",
    "The Dolby.io team will be picking their **5 favorite Analyze API ideas live during the workshop** and an **additional 5 favorite Analyze API ideas after November 7th** so add some of your favorite ideas for how you can use our API and win some free API minutes."
   ]
  },
  {
   "cell_type": "code",
   "execution_count": null,
   "id": "0780b9e0-1cd1-4273-b088-548139b75bce",
   "metadata": {},
   "outputs": [],
   "source": []
  }
 ],
 "metadata": {
  "kernelspec": {
   "display_name": "Python 3",
   "language": "python",
   "name": "python3"
  },
  "language_info": {
   "codemirror_mode": {
    "name": "ipython",
    "version": 3
   },
   "file_extension": ".py",
   "mimetype": "text/x-python",
   "name": "python",
   "nbconvert_exporter": "python",
   "pygments_lexer": "ipython3",
   "version": "3.8.8"
  }
 },
 "nbformat": 4,
 "nbformat_minor": 5
}
